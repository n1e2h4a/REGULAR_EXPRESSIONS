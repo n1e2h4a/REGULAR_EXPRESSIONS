{
 "cells": [
  {
   "cell_type": "markdown",
   "metadata": {},
   "source": [
    "# USECASE:1\n",
    " \n",
    "# User Registration System needs to ensure all validations are in place during the User Entry# \n",
    "\n",
    "As a User Need to Enter a Valid First Name (first name starts with Cap and has minimum 3 characters)¶"
   ]
  },
  {
   "cell_type": "code",
   "execution_count": 1,
   "metadata": {},
   "outputs": [
    {
     "name": "stdout",
     "output_type": "stream",
     "text": [
      "Enter the first name: NIHARIKA\n",
      "NIHARIKA Enter first letter as uppercase\n"
     ]
    }
   ],
   "source": [
    "import re\n",
    "def fname(first_name):\n",
    "    regex = r'^([A-Z]{1})([a-z]{2,})'\n",
    "    if (re.match(regex,first_name)):\n",
    "        print(first_name)\n",
    "    else:\n",
    "        print(first_name,\"Enter first letter as uppercase\")\n",
    "first_name = str(input(\"Enter the first name: \"))\n",
    "fname(first_name)"
   ]
  },
  {
   "cell_type": "markdown",
   "metadata": {},
   "source": [
    "# USECASE:2\n",
    " ###  As a User need to enter a valid Last Name Last name starts with Cap and has minimum 3 characters"
   ]
  },
  {
   "cell_type": "code",
   "execution_count": 2,
   "metadata": {},
   "outputs": [
    {
     "name": "stdout",
     "output_type": "stream",
     "text": [
      "Enter the last name: Gupta\n",
      "Gupta\n"
     ]
    }
   ],
   "source": [
    "Last_name = str(input(\"Enter the last name: \"))\n",
    "regex = r'^([A-Z]{1})([a-z]{2,})'\n",
    "if (re.match(regex,Last_name)):\n",
    "    print(Last_name)\n",
    "else:\n",
    "    print(\"Enter first letter as uppercase\")\n"
   ]
  },
  {
   "cell_type": "markdown",
   "metadata": {},
   "source": [
    "# USECASE : 3\n",
    "\n",
    "#  As a User need to enter a valid email E.g. abc.xyz@bl.co.in Email has 3 mandatory parts (abc, bl & co) and 2 optional (xyz & in) with precise @ and . positions"
   ]
  },
  {
   "cell_type": "code",
   "execution_count": 3,
   "metadata": {},
   "outputs": [
    {
     "name": "stdout",
     "output_type": "stream",
     "text": [
      "Enter an emailId: guptaniharika851@gmail.com\n",
      "Valid email\n"
     ]
    }
   ],
   "source": [
    "regex1 = '^[a-z0-9]+[\\._]?[a-z0-9]+[@]\\w+[.]\\w{2,3}$'\n",
    "def check(email):  \n",
    "    try:\n",
    "        re.search(regex1, email)\n",
    "        print(\"Valid email\")\n",
    "    except:\n",
    "        print(\"enter a valid email\")\n",
    "# Driver Code  \n",
    "if __name__ == '__main__' :\n",
    "    email=str(input(\"Enter an emailId: \"))\n",
    "    check(email)     \n",
    "        "
   ]
  },
  {
   "cell_type": "markdown",
   "metadata": {},
   "source": [
    "# USECASE : 4\n",
    "\n",
    "#  As a User need to follow pre-defined Mobile Format E.g. 91 9919819801 Country code follow by space and 10 digit number¶"
   ]
  },
  {
   "cell_type": "code",
   "execution_count": 4,
   "metadata": {},
   "outputs": [
    {
     "name": "stdout",
     "output_type": "stream",
     "text": [
      "Enter the mobile number : 9135748621\n",
      "9135748621 Is valid number\n"
     ]
    }
   ],
   "source": [
    "def mobilenum(num):\n",
    "    pattern = \"(0/91)?[7-9][0-9]{9}\"\n",
    "    try:\n",
    "        re.match(pattern,num)\n",
    "        print(num,\"Is valid number\")\n",
    "    except:\n",
    "        print(\"Enter a valid Number\")\n",
    "#Driver code\n",
    "if __name__=='__main__':\n",
    "    num = input(\"Enter the mobile number : \")\n",
    "    mobilenum(num)\n"
   ]
  },
  {
   "cell_type": "markdown",
   "metadata": {},
   "source": [
    "# USECASE : 5\n",
    "\n",
    "#  As a User need to follow pre-defined Password rules. Rule1 – minimum 8 Characters NOTE – All rules must be passed¶"
   ]
  },
  {
   "cell_type": "code",
   "execution_count": 5,
   "metadata": {},
   "outputs": [
    {
     "name": "stdout",
     "output_type": "stream",
     "text": [
      "Enter a Password : neha231\n",
      "Password less then 8 words\n"
     ]
    }
   ],
   "source": [
    "#Correct Password\n",
    "\n",
    "Password=input(\"Enter a Password : \")\n",
    "pattern='(?=^.{8,}$)((?=.*\\d)|[^0-9]*|[^A-Z]*|[^a-z]*|[a-zA-Z0-9]*)'\n",
    "if(re.match(pattern,Password)):\n",
    "    print(Password)\n",
    "    \n",
    "else:\n",
    "    print(\"Password less then 8 words\")\n"
   ]
  },
  {
   "cell_type": "code",
   "execution_count": 6,
   "metadata": {},
   "outputs": [
    {
     "name": "stdout",
     "output_type": "stream",
     "text": [
      "Enter a Password : neha2\n",
      "Password less then 8 words must be greater 8\n"
     ]
    }
   ],
   "source": [
    "# with less then 8\n",
    "\n",
    "Password=input(\"Enter a Password : \")\n",
    "pattern='(?=^.{8,}$)((?=.*\\d)|[^0-9]*|[^A-Z]*|[^a-z]*|[a-zA-Z0-9]*)'\n",
    "if(re.match(pattern,Password)):\n",
    "    print(Password)\n",
    "    \n",
    "else:\n",
    "    print(\"Password less then 8 words must be greater 8\")\n"
   ]
  },
  {
   "cell_type": "markdown",
   "metadata": {},
   "source": [
    "# USECASE : 6\n",
    "# Rule2 – Should have at least 1 Upper Case NOTE – All rules must be passed\n"
   ]
  },
  {
   "cell_type": "code",
   "execution_count": 7,
   "metadata": {},
   "outputs": [
    {
     "name": "stdout",
     "output_type": "stream",
     "text": [
      "Enter a Password : neha345\n",
      "Password less then 8 words minimum one upper case\n"
     ]
    }
   ],
   "source": [
    "# At least one Upper case \n",
    "\n",
    "Password=input(\"Enter a Password : \")\n",
    "pattern='^(?=.*[a-z])(?=.*[A-Z])(?=.*\\d)[a-zA-Z\\d]{8,}$'\n",
    "if(re.match(pattern,Password)):\n",
    "    print(Password)\n",
    "    \n",
    "else:\n",
    "    print(\"Password less then 8 words minimum one upper case\")\n"
   ]
  },
  {
   "cell_type": "code",
   "execution_count": 8,
   "metadata": {},
   "outputs": [
    {
     "name": "stdout",
     "output_type": "stream",
     "text": [
      "Enter a Password : Neha1234\n",
      "Neha1234\n"
     ]
    }
   ],
   "source": [
    "# At least one Upper case \n",
    "\n",
    "Password=input(\"Enter a Password : \")\n",
    "pattern='^(?=.*[a-z])(?=.*[A-Z])(?=.*\\d)[a-zA-Z\\d]{8,}$'\n",
    "if(re.match(pattern,Password)):\n",
    "    print(Password)\n",
    "    \n",
    "else:\n",
    "    print(\"Password less then 8 words minimum one upper case\")\n"
   ]
  },
  {
   "cell_type": "code",
   "execution_count": 9,
   "metadata": {},
   "outputs": [
    {
     "name": "stdout",
     "output_type": "stream",
     "text": [
      "Enter a Password : niharika56\n",
      "Password less then 8 words minimum one upper case\n"
     ]
    }
   ],
   "source": [
    "# At least one Upper case checking no upper cases\n",
    "\n",
    "Password=input(\"Enter a Password : \")\n",
    "pattern='^(?=.*[a-z])(?=.*[A-Z])(?=.*\\d)[a-zA-Z\\d]{8,}$'\n",
    "if(re.match(pattern,Password)):\n",
    "    print(Password)\n",
    "    \n",
    "else:\n",
    "    print(\"Password less then 8 words minimum one upper case\")\n"
   ]
  },
  {
   "cell_type": "code",
   "execution_count": 10,
   "metadata": {},
   "outputs": [
    {
     "name": "stdout",
     "output_type": "stream",
     "text": [
      "Enter a Password : Niharika564\n",
      "Niharika564\n"
     ]
    }
   ],
   "source": [
    "# At least one Upper case upper case less then 8\n",
    "\n",
    "Password=input(\"Enter a Password : \")\n",
    "pattern='^(?=.*[a-z])(?=.*[A-Z])(?=.*\\d)[a-zA-Z\\d]{8,}$'\n",
    "if(re.match(pattern,Password)):\n",
    "    print(Password)\n",
    "    \n",
    "else:\n",
    "    print(\"Password less then 8 words minimum one upper case\")\n"
   ]
  },
  {
   "cell_type": "markdown",
   "metadata": {},
   "source": [
    "# USECASE : 7\n",
    "# Rule3 – Should have at least 1 numeric number in the password NOTE – All rules must be passed¶\n"
   ]
  },
  {
   "cell_type": "code",
   "execution_count": 11,
   "metadata": {},
   "outputs": [
    {
     "name": "stdout",
     "output_type": "stream",
     "text": [
      "Enter a Password : nehagupta\n",
      "Password less then 8 minimum one number : \n"
     ]
    }
   ],
   "source": [
    "# with Number\n",
    "\n",
    "Password=input(\"Enter a Password : \")\n",
    "pattern='^(?=.*[A-Za-z])(?=.*\\d)[A-Za-z\\d]{8,}$'\n",
    "if(re.match(pattern,Password)):\n",
    "    print(Password)\n",
    "    \n",
    "else:\n",
    "    print(\"Password less then 8 minimum one number : \")\n"
   ]
  },
  {
   "cell_type": "code",
   "execution_count": 12,
   "metadata": {},
   "outputs": [
    {
     "name": "stdout",
     "output_type": "stream",
     "text": [
      "Enter a Password : nehagupta20\n",
      "nehagupta20\n"
     ]
    }
   ],
   "source": [
    "# with out Number\n",
    "\n",
    "Password=input(\"Enter a Password : \")\n",
    "pattern='^(?=.*[A-Za-z])(?=.*\\d)[A-Za-z\\d]{8,}$'\n",
    "if(re.match(pattern,Password)):\n",
    "    print(Password)\n",
    "    \n",
    "else:\n",
    "    print(\"Password less then 8 minimum one number : \")\n"
   ]
  },
  {
   "cell_type": "code",
   "execution_count": 13,
   "metadata": {},
   "outputs": [
    {
     "name": "stdout",
     "output_type": "stream",
     "text": [
      "Enter a Password : neha2\n",
      "Password less then 8 minimum one number : \n"
     ]
    }
   ],
   "source": [
    "# with Number less then 8\n",
    "\n",
    "Password=input(\"Enter a Password : \")\n",
    "pattern='^(?=.*[A-Za-z])(?=.*\\d)[A-Za-z\\d]{8,}$'\n",
    "if(re.match(pattern,Password)):\n",
    "    print(Password)\n",
    "    \n",
    "else:\n",
    "    print(\"Password must be  8 minimum one number : \")\n"
   ]
  },
  {
   "cell_type": "markdown",
   "metadata": {},
   "source": [
    "# USECASE : 8 \n",
    "# Rule4 – Has exactly 1 Special Character NOTE – All rules must be passed\n"
   ]
  },
  {
   "cell_type": "code",
   "execution_count": 16,
   "metadata": {},
   "outputs": [
    {
     "name": "stdout",
     "output_type": "stream",
     "text": [
      "Enter a Password : xyz@12345\n",
      "xyz@12345\n"
     ]
    }
   ],
   "source": [
    "# with Special character\n",
    "\n",
    "Password=input(\"Enter a Password : \")\n",
    "pattern='^(?=.*[A-Za-z])(?=.*\\d)(?=.*[@$!%*#?&])[A-Za-z\\d@$!%*#?&]{8,}$'\n",
    "if(re.match(pattern,Password)):\n",
    "    print(Password)\n",
    "    \n",
    "else:\n",
    "    print(\"Password less then 8 minimum one Special Symbol \")\n"
   ]
  },
  {
   "cell_type": "code",
   "execution_count": 17,
   "metadata": {},
   "outputs": [
    {
     "name": "stdout",
     "output_type": "stream",
     "text": [
      "Enter a Password : xyz12345\n",
      "Password less then 8 minimum one Special Symbol : \n"
     ]
    }
   ],
   "source": [
    "# without Special character\n",
    "\n",
    "Password=input(\"Enter a Password : \")\n",
    "pattern='^(?=.*[A-Za-z])(?=.*\\d)(?=.*[@$!%*#?&])[A-Za-z\\d@$!%*#?&]{8,}$'\n",
    "if(re.match(pattern,Password)):\n",
    "    print(Password)\n",
    "    \n",
    "else:\n",
    "    print(\"Password less then 8 minimum one Special Symbol  \")\n"
   ]
  },
  {
   "cell_type": "code",
   "execution_count": 19,
   "metadata": {},
   "outputs": [
    {
     "name": "stdout",
     "output_type": "stream",
     "text": [
      "Enter a Password : xyz@123\n",
      "Password less then 8 minimum one Special Symbol : \n"
     ]
    }
   ],
   "source": [
    "# with Special character length less than 8\n",
    "\n",
    "Password=input(\"Enter a Password : \")\n",
    "pattern='^(?=.*[A-Za-z])(?=.*\\d)(?=.*[@$!%*#?&])[A-Za-z\\d@$!%*#?&]{8,}$'\n",
    "if(re.match(pattern,Password)):\n",
    "    print(Password)\n",
    "    \n",
    "else:\n",
    "    print(\"Password less then 8 minimum one Special Symbol : \")\n"
   ]
  },
  {
   "cell_type": "markdown",
   "metadata": {},
   "source": [
    "# USECASE : 9 \n",
    "# Should clear all email samples provided separately¶\n"
   ]
  },
  {
   "cell_type": "code",
   "execution_count": 21,
   "metadata": {},
   "outputs": [
    {
     "name": "stdout",
     "output_type": "stream",
     "text": [
      "Enter a Password : @ahurT1234\n",
      "@ahurT1234\n"
     ]
    }
   ],
   "source": [
    "# should follow one caps, one low, one number, one spl and 8 minimum length.\n",
    "\n",
    "Password=input(\"Enter a Password : \")\n",
    "pattern='^(?=.*[a-z])(?=.*[A-Z])(?=.*\\d)(?=.*[@$!%*?&])[A-Za-z\\d@$!%*?&]{8,10}$'\n",
    "if(re.match(pattern,Password)):\n",
    "    print(Password)\n",
    "    \n",
    "else:\n",
    "    print(\"Password less then 8 minimum one Special Symbol, Caps, small Alpha and number : \")\n"
   ]
  },
  {
   "cell_type": "code",
   "execution_count": 22,
   "metadata": {},
   "outputs": [
    {
     "name": "stdout",
     "output_type": "stream",
     "text": [
      "Enter a Password : ahur123\n",
      "Password less then 8 minimum one Special Symbol, Caps, small Alpha and number : \n"
     ]
    }
   ],
   "source": [
    "# should follow one caps, one low, one number, one spl and 8 minimum length.\n",
    "\n",
    "Password=input(\"Enter a Password : \")\n",
    "pattern='^(?=.*[a-z])(?=.*[A-Z])(?=.*\\d)(?=.*[@$!%*?&])[A-Za-z\\d@$!%*?&]{8,10}$'\n",
    "if(re.match(pattern,Password)):\n",
    "    print(Password)\n",
    "    \n",
    "else:\n",
    "    print(\"Password less then 8 minimum one Special Symbol, Caps, small Alpha and number : \")\n"
   ]
  },
  {
   "cell_type": "code",
   "execution_count": 23,
   "metadata": {},
   "outputs": [
    {
     "name": "stdout",
     "output_type": "stream",
     "text": [
      "Enter a Password : neha123\n",
      "Password less then 8 minimum one Special Symbol, Caps, small Alpha and number : \n"
     ]
    }
   ],
   "source": [
    "# should follow one caps, one low, one number, one spl and 8 minimum length. check one Caps,\n",
    "\n",
    "Password=input(\"Enter a Password : \")\n",
    "pattern='^(?=.*[a-z])(?=.*[A-Z])(?=.*\\d)(?=.*[@$!%*?&])[A-Za-z\\d@$!%*?&]{8,10}$'\n",
    "if(re.match(pattern,Password)):\n",
    "    print(Password)\n",
    "    \n",
    "else:\n",
    "    print(\"Password less then 8 minimum one Special Symbol, Caps, small Alpha and number : \")\n"
   ]
  },
  {
   "cell_type": "code",
   "execution_count": 24,
   "metadata": {},
   "outputs": [
    {
     "name": "stdout",
     "output_type": "stream",
     "text": [
      "Enter a Password : @neha12\n",
      "Password less then 8 minimum one Special Symbol, Caps, small Alpha and number : \n"
     ]
    }
   ],
   "source": [
    "# should follow one caps, one low, one number, one spl and 8 minimum length. check lower case\n",
    "\n",
    "Password=input(\"Enter a Password : \")\n",
    "pattern='^(?=.*[a-z])(?=.*[A-Z])(?=.*\\d)(?=.*[@$!%*?&])[A-Za-z\\d@$!%*?&]{8,10}$'\n",
    "if(re.match(pattern,Password)):\n",
    "    print(Password)\n",
    "    \n",
    "else:\n",
    "    print(\"Password less then 8 minimum one Special Symbol, Caps, small Alpha and number : \")\n"
   ]
  },
  {
   "cell_type": "code",
   "execution_count": 25,
   "metadata": {},
   "outputs": [
    {
     "name": "stdout",
     "output_type": "stream",
     "text": [
      "Enter a Password : nehagupta@\n",
      "Password less then 8 minimum one Special Symbol, Caps, small Alpha and number : \n"
     ]
    }
   ],
   "source": [
    "# should follow one caps, one low, one number, one spl and 8 minimum length. Spl Charater\n",
    "\n",
    "Password=input(\"Enter a Password : \")\n",
    "pattern='^(?=.*[a-z])(?=.*[A-Z])(?=.*\\d)(?=.*[@$!%*?&])[A-Za-z\\d@$!%*?&]{8,10}$'\n",
    "if(re.match(pattern,Password)):\n",
    "    print(Password)\n",
    "    \n",
    "else:\n",
    "    print(\"Password less then 8 minimum one Special Symbol, Caps, small Alpha and number : \")\n"
   ]
  },
  {
   "cell_type": "code",
   "execution_count": null,
   "metadata": {},
   "outputs": [],
   "source": []
  }
 ],
 "metadata": {
  "kernelspec": {
   "display_name": "Python 3",
   "language": "python",
   "name": "python3"
  },
  "language_info": {
   "codemirror_mode": {
    "name": "ipython",
    "version": 3
   },
   "file_extension": ".py",
   "mimetype": "text/x-python",
   "name": "python",
   "nbconvert_exporter": "python",
   "pygments_lexer": "ipython3",
   "version": "3.6.9"
  }
 },
 "nbformat": 4,
 "nbformat_minor": 2
}
